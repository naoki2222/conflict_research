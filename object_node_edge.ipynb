{
 "cells": [
  {
   "cell_type": "code",
   "execution_count": 304,
   "metadata": {},
   "outputs": [],
   "source": [
    "#削除されたノードの検出\n",
    "\n",
    "def delete_node(L, R):\n",
    "    \n",
    "    delete_node = []\n",
    "    \n",
    "    for i in L:\n",
    "        if i not in R:\n",
    "            delete_node.append(i)\n",
    "    \n",
    "    delete_node = list(set(delete_node))\n",
    "    \n",
    "    return delete_node"
   ]
  },
  {
   "cell_type": "code",
   "execution_count": 305,
   "metadata": {},
   "outputs": [],
   "source": [
    "#削除されたエッジの検出\n",
    "\n",
    "def delete_edge(L, R):\n",
    "\n",
    "    delete_edge = []\n",
    "    \n",
    "    for i in L:\n",
    "        if (i not in R) and (i not in delete_edge):\n",
    "            delete_edge.append(i)\n",
    "    \n",
    "    return delete_edge"
   ]
  },
  {
   "cell_type": "code",
   "execution_count": 306,
   "metadata": {},
   "outputs": [],
   "source": [
    "#境界ノードの検出\n",
    "\n",
    "def boundary_node(delete_node, delete_edge):\n",
    "    \n",
    "    d_node = delete_node\n",
    "    d_edge = delete_edge\n",
    "    boundary_node = []\n",
    "    \n",
    "    for i in d_edge:\n",
    "        boundary_node.append(i.obj[0])  #削除エッジに含まれるものを追加\n",
    "        boundary_node.append(i.obj[1])  #削除エッジに含まれるものを追加\n",
    "    \n",
    "    for i in d_node:\n",
    "        while i in boundary_node:\n",
    "            boundary_node.remove(i)  #削除ノードを除く\n",
    "    \n",
    "    boundary_node = list(set(boundary_node))  #重複の削除\n",
    "    \n",
    "    return boundary_node"
   ]
  },
  {
   "cell_type": "code",
   "execution_count": 307,
   "metadata": {},
   "outputs": [],
   "source": [
    "#コンフリクトしているエッジの検出\n",
    "\n",
    "def conflict_edge(delete_edge1, delete_edge2):\n",
    "    \n",
    "    list1 = delete_edge1\n",
    "    list2 = delete_edge2\n",
    "    conflict_edge = []\n",
    "    \n",
    "    for i in list1:\n",
    "        if i in list2:\n",
    "            conflict_edge.append(i)\n",
    "    \n",
    "    #conflict_edge = list(set(conflict_edge))\n",
    "    \n",
    "    return conflict_edge"
   ]
  },
  {
   "cell_type": "code",
   "execution_count": 308,
   "metadata": {},
   "outputs": [],
   "source": [
    "#コンフリクトしているノードの検出\n",
    "\n",
    "def conflict_node(delete_node1, delete_node2):\n",
    "    \n",
    "    list1 = delete_node1\n",
    "    list2 = delete_node2\n",
    "    conflict_node = []\n",
    "    \n",
    "    for i in list1:\n",
    "        if i in list2:\n",
    "            conflict_node.append(i)\n",
    "    \n",
    "    conflict_node = list(set(conflict_node))\n",
    "    \n",
    "    return conflict_node"
   ]
  },
  {
   "cell_type": "code",
   "execution_count": 309,
   "metadata": {},
   "outputs": [],
   "source": [
    "#コンフリクトの有無の判定\n",
    "\n",
    "def Conflict_occurrence(list_edge_L, list_edge_R, list_node_L, list_node_R, list2_edge_L, list2_node_L):\n",
    "\n",
    "    delete_e = delete_edge(list_edge_L, list_edge_R)\n",
    "    delete_n = delete_node(list_node_L, list_node_R)\n",
    "\n",
    "    c_edge = conflict_edge(delete_e, list2_edge_L)\n",
    "    c_node = conflict_node(delete_n, list2_node_L)\n",
    "\n",
    "    if ( len(c_edge) > 0 or len(c_node) > 0 ):\n",
    "        print(\"Conflict\")\n",
    "    else:\n",
    "        print(\"No Conflict\")"
   ]
  },
  {
   "cell_type": "code",
   "execution_count": 310,
   "metadata": {},
   "outputs": [],
   "source": [
    "#エッジの最小競合因子に境界ノードを付ける.\n",
    "\n",
    "def add_boundary_edge(reason_edge, boundary_node):\n",
    "    \n",
    "    Adjacent_node = []\n",
    "    add_boundary = []\n",
    "    \n",
    "    for i in reason_edge:\n",
    "        subset = []\n",
    "        for j in boundary_node:\n",
    "            if (j in i.obj) and (j not in subset):\n",
    "                subset.append(j)\n",
    "        Adjacent_node.append(subset)\n",
    "    \n",
    "    for i in range(len(Adjacent_node)):\n",
    "        add_boundary.append([Adjacent_node[i], reason_edge[i]])\n",
    "    \n",
    "    return add_boundary"
   ]
  },
  {
   "cell_type": "code",
   "execution_count": 311,
   "metadata": {},
   "outputs": [],
   "source": [
    "# コンフリクトの最小理由（エッジについての）\n",
    "\n",
    "def conflict_reason_edge(conflict_node, conflict_edge, boundary_node):\n",
    "    \n",
    "    node = conflict_node\n",
    "    edge = conflict_edge\n",
    "\n",
    "    reason_edge = []\n",
    "    \n",
    "    #コンフリクト因子の候補（エッジについて）\n",
    "    for i in edge:\n",
    "        count = 0\n",
    "        for j in node:\n",
    "            if j in i.obj:\n",
    "                break\n",
    "            count = count+1\n",
    "        if count == len(node):\n",
    "            reason_edge.append(i)\n",
    "    \n",
    "    #reason_edge = add_boundary_edge(reason_edge,boundary_node)\n",
    "    \n",
    "    return reason_edge"
   ]
  },
  {
   "cell_type": "code",
   "execution_count": 312,
   "metadata": {},
   "outputs": [],
   "source": [
    "#コンフリクトの最小理由（ノードについての）\n",
    "\n",
    "def conflict_reason_node(conflict_node, conflict_edge, boundary_node):\n",
    "    \n",
    "    \n",
    "    reason_node = []\n",
    "    subset = []\n",
    "    Adjacent_edge = []\n",
    "    \n",
    "    #競合因子の周りのエッジの検索\n",
    "    for i in conflict_node:\n",
    "        subset = []\n",
    "        for j in conflict_edge:\n",
    "            if (i in j.obj) and (i not in subset):\n",
    "                subset.append(j)\n",
    "        Adjacent_edge.append(subset)\n",
    "    \n",
    "    #最小の競合理由リストの作成 \n",
    "    for i in range(len(conflict_node)):\n",
    "        reason_node.append([[conflict_node[i]], Adjacent_edge[i]])\n",
    "    \n",
    "    \n",
    "    \n",
    "    #for i in range(len(reason_node)):\n",
    "    #    for j in range(len(reason_node)):\n",
    "    #        if i > j:\n",
    "    #            break\n",
    "    #        else:\n",
    "    #            for k in reason_node[i][1]\n",
    "    #                if reason \n",
    "    \n",
    "    \n",
    "    \n",
    "    return reason_node"
   ]
  },
  {
   "cell_type": "code",
   "execution_count": 313,
   "metadata": {},
   "outputs": [],
   "source": [
    "#ノード周りの最小因子に境界ノードを付ける.\n",
    "\n",
    "def add_boundary_node(reason_node, boundary_node):\n",
    "    \n",
    "    Adjacent_node = []\n",
    "    add_boundary = []\n",
    "    \n",
    "    for i in reason_node:\n",
    "        if len(i) == 1:\n",
    "            continue\n",
    "        else:\n",
    "            for j in i[1]:\n",
    "                for k in j.obj:\n",
    "                    if (k in boundary_node) and (k not in i[0]):\n",
    "                        i[0].append(k)\n",
    "\n",
    "    return reason_node"
   ]
  },
  {
   "cell_type": "code",
   "execution_count": null,
   "metadata": {},
   "outputs": [],
   "source": []
  },
  {
   "cell_type": "code",
   "execution_count": 314,
   "metadata": {},
   "outputs": [],
   "source": [
    "class Node:\n",
    "    \n",
    "    def __init__(self, node_name):\n",
    "        self.obj = node_name\n"
   ]
  },
  {
   "cell_type": "code",
   "execution_count": 315,
   "metadata": {},
   "outputs": [],
   "source": [
    "class Edge:\n",
    "    \n",
    "    def __init__(self, edge_name):\n",
    "        self.obj = edge_name\n",
    "\n",
    "    def Name(self):\n",
    "        return self.obj\n",
    "    "
   ]
  },
  {
   "cell_type": "code",
   "execution_count": null,
   "metadata": {},
   "outputs": [],
   "source": []
  },
  {
   "cell_type": "code",
   "execution_count": 316,
   "metadata": {},
   "outputs": [],
   "source": [
    "#データ(returnUnpaidGood)\n",
    "\n",
    "#すべてのノード\n",
    "Customer = Node(\"Customer\")\n",
    "Order = Node(\"Order\")\n",
    "Stock = Node(\"Stock\")\n",
    "Bill = Node(\"Bill\")\n",
    "OrderItem = Node(\"OrderItem\")\n",
    "Good = Node(\"Good\")\n",
    "BillItem = Node(\"BillItem\")\n",
    "OrderItem2 = Node(\"OrderItem\")\n",
    "Good2 = Node(\"Good\")\n",
    "GiftOffer = Node(\"GiftOffer\")\n",
    "\n",
    "#すべてのエッジ\n",
    "orders = Edge([Customer,Order])\n",
    "owns = Edge([Customer,Good])\n",
    "owns2 = Edge([Customer,Good2])\n",
    "items = Edge([Order,OrderItem])\n",
    "items2 = Edge([Order,OrderItem2])\n",
    "items3 =  Edge([Bill, BillItem])\n",
    "bills = Edge([Customer,Bill])\n",
    "goods = Edge([OrderItem, Good])\n",
    "goods2 = Edge([OrderItem2, Good2]) \n",
    "goods3 = Edge([BillItem, Good])\n",
    "goods4 = Edge([Stock, Good])\n",
    "giftOffers = Edge([Customer, GiftOffer]) \n",
    "\n",
    "\n",
    "#データ(unpaidGood)\n",
    "Unpaid_node_L = [Customer, Order, Stock, Bill, OrderItem, Good, BillItem]\n",
    "Unpaid_node_R = [Customer, Order, Stock, Bill, Good]\n",
    "\n",
    "Unpaid_edge_L = [orders, items, items3, owns, bills, goods, goods3]\n",
    "Unpaid_edge_R = [orders, bills, goods4]\n",
    "\n",
    "\n",
    "#データ(OfferGift)\n",
    "OfferGift_node_L = [Order, Customer, OrderItem, Good, OrderItem2, Good2]\n",
    "OfferGift_node_R = [Order, Customer, OrderItem, Good, OrderItem2, Good2, GiftOffer]\n",
    "\n",
    "OfferGift_edge_L = [orders, items, items2, goods, goods2, owns, owns2]\n",
    "OfferGift_edge_R = [orders, items, items2, goods, goods2, owns, owns2, giftOffers]"
   ]
  },
  {
   "cell_type": "code",
   "execution_count": 317,
   "metadata": {},
   "outputs": [
    {
     "data": {
      "text/plain": [
       "[<__main__.Node at 0x1762945f4a8>, <__main__.Node at 0x1762945f438>]"
      ]
     },
     "execution_count": 317,
     "metadata": {},
     "output_type": "execute_result"
    }
   ],
   "source": [
    "delete_Unpaid_node = delete_node(Unpaid_node_L, Unpaid_node_R)  #削除ノード\n",
    "delete_Unpaid_node"
   ]
  },
  {
   "cell_type": "code",
   "execution_count": 318,
   "metadata": {},
   "outputs": [
    {
     "data": {
      "text/plain": [
       "[<__main__.Edge at 0x1762945f6a0>,\n",
       " <__main__.Edge at 0x1762945f710>,\n",
       " <__main__.Edge at 0x1762945f5f8>,\n",
       " <__main__.Edge at 0x1762945f780>,\n",
       " <__main__.Edge at 0x17629429198>]"
      ]
     },
     "execution_count": 318,
     "metadata": {},
     "output_type": "execute_result"
    }
   ],
   "source": [
    "delete_Unpaid_edge = delete_edge(Unpaid_edge_L, Unpaid_edge_R) #削除エッジ\n",
    "delete_Unpaid_edge"
   ]
  },
  {
   "cell_type": "code",
   "execution_count": 319,
   "metadata": {},
   "outputs": [
    {
     "data": {
      "text/plain": [
       "[<__main__.Node at 0x1762945f400>,\n",
       " <__main__.Node at 0x1762945f390>,\n",
       " <__main__.Node at 0x1762945f358>,\n",
       " <__main__.Node at 0x1762945f470>]"
      ]
     },
     "execution_count": 319,
     "metadata": {},
     "output_type": "execute_result"
    }
   ],
   "source": [
    "B_node = boundary_node(delete_Unpaid_node, delete_Unpaid_edge)  #境界ノード\n",
    "B_node"
   ]
  },
  {
   "cell_type": "code",
   "execution_count": 320,
   "metadata": {},
   "outputs": [
    {
     "data": {
      "text/plain": [
       "[<__main__.Edge at 0x1762945f6a0>,\n",
       " <__main__.Edge at 0x1762945f5f8>,\n",
       " <__main__.Edge at 0x1762945f780>]"
      ]
     },
     "execution_count": 320,
     "metadata": {},
     "output_type": "execute_result"
    }
   ],
   "source": [
    "conflict_e = conflict_edge(delete_Unpaid_edge, OfferGift_edge_L ) #コンフリクトエッジ\n",
    "conflict_e"
   ]
  },
  {
   "cell_type": "code",
   "execution_count": 321,
   "metadata": {},
   "outputs": [
    {
     "data": {
      "text/plain": [
       "[<__main__.Node at 0x1762945f438>]"
      ]
     },
     "execution_count": 321,
     "metadata": {},
     "output_type": "execute_result"
    }
   ],
   "source": [
    "conflict_n = conflict_node(delete_Unpaid_node,  OfferGift_node_L)  #コンフリクトノード\n",
    "conflict_n"
   ]
  },
  {
   "cell_type": "code",
   "execution_count": 322,
   "metadata": {},
   "outputs": [
    {
     "name": "stdout",
     "output_type": "stream",
     "text": [
      "Conflict\n"
     ]
    }
   ],
   "source": [
    "#コンフリクトの有無\n",
    "Conflict_occurrence(Unpaid_edge_L, Unpaid_edge_R ,Unpaid_node_L, Unpaid_node_R, OfferGift_edge_L, OfferGift_node_L)"
   ]
  },
  {
   "cell_type": "code",
   "execution_count": 323,
   "metadata": {},
   "outputs": [
    {
     "data": {
      "text/plain": [
       "[<__main__.Edge at 0x1762945f5f8>]"
      ]
     },
     "execution_count": 323,
     "metadata": {},
     "output_type": "execute_result"
    }
   ],
   "source": [
    "#エッジ周辺でのコンフリクト\n",
    "edge_con =  conflict_reason_edge(conflict_n, conflict_e, B_node) #コンフリクトの最小の理由（エッジについて）\n",
    "edge_con"
   ]
  },
  {
   "cell_type": "code",
   "execution_count": 324,
   "metadata": {},
   "outputs": [
    {
     "data": {
      "text/plain": [
       "[[[<__main__.Node at 0x1762945f390>, <__main__.Node at 0x1762945f470>],\n",
       "  <__main__.Edge at 0x1762945f5f8>]]"
      ]
     },
     "execution_count": 324,
     "metadata": {},
     "output_type": "execute_result"
    }
   ],
   "source": [
    "add_boundary_edge(edge_con, B_node) #境界ノード追加"
   ]
  },
  {
   "cell_type": "code",
   "execution_count": 325,
   "metadata": {},
   "outputs": [],
   "source": [
    "x = conflict_reason_node(conflict_n, conflict_e, B_node) #コンフリクトの最小の理由（ノードについて）"
   ]
  },
  {
   "cell_type": "code",
   "execution_count": 326,
   "metadata": {},
   "outputs": [
    {
     "data": {
      "text/plain": [
       "[[<__main__.Node at 0x1762945f438>],\n",
       " [<__main__.Edge at 0x1762945f6a0>, <__main__.Edge at 0x1762945f780>]]"
      ]
     },
     "execution_count": 326,
     "metadata": {},
     "output_type": "execute_result"
    }
   ],
   "source": [
    "x[0]"
   ]
  },
  {
   "cell_type": "code",
   "execution_count": 327,
   "metadata": {},
   "outputs": [
    {
     "data": {
      "text/plain": [
       "[[[<__main__.Node at 0x1762945f438>,\n",
       "   <__main__.Node at 0x1762945f358>,\n",
       "   <__main__.Node at 0x1762945f470>],\n",
       "  [<__main__.Edge at 0x1762945f6a0>, <__main__.Edge at 0x1762945f780>]]]"
      ]
     },
     "execution_count": 327,
     "metadata": {},
     "output_type": "execute_result"
    }
   ],
   "source": [
    "add_boundary_node(x, B_node) #境界ノードの追加"
   ]
  },
  {
   "cell_type": "code",
   "execution_count": null,
   "metadata": {},
   "outputs": [],
   "source": []
  },
  {
   "cell_type": "code",
   "execution_count": null,
   "metadata": {},
   "outputs": [],
   "source": []
  },
  {
   "cell_type": "code",
   "execution_count": null,
   "metadata": {},
   "outputs": [],
   "source": []
  },
  {
   "cell_type": "code",
   "execution_count": 332,
   "metadata": {},
   "outputs": [],
   "source": [
    "#コンフリクトしているノードの検出\n",
    "\n",
    "def conflict_node2(delete_node1, delete_node2):\n",
    "    \n",
    "    list1 = delete_node1\n",
    "    list2 = delete_node2\n",
    "    conflict_node = []\n",
    "    \n",
    "    for i in list1:\n",
    "        for j in list2:\n",
    "            if i.obj == j.obj:\n",
    "                conflict_node.append(i)\n",
    "                conflict_node.append(j)\n",
    "    \n",
    "    conflict_node = list(set(conflict_node))\n",
    "    \n",
    "    return conflict_node"
   ]
  },
  {
   "cell_type": "code",
   "execution_count": 336,
   "metadata": {},
   "outputs": [],
   "source": [
    "#コンフリクトしているエッジの検出\n",
    "\n",
    "def conflict_edge2(delete_edge1, delete_edge2):\n",
    "    \n",
    "    list1 = delete_edge1\n",
    "    list2 = delete_edge2\n",
    "    conflict_edge = []\n",
    "\n",
    "    for i in list1:\n",
    "        for j in list2:\n",
    "            if [i.obj[0].obj, i.obj[1].obj] == [j.obj[0].obj, j.obj[1].obj]:\n",
    "                conflict_edge.append(i)\n",
    "                conflict_edge.append(j)\n",
    "\n",
    "    conflict_edge = list(set(conflict_edge))\n",
    "\n",
    "    return conflict_edge"
   ]
  },
  {
   "cell_type": "code",
   "execution_count": 333,
   "metadata": {},
   "outputs": [
    {
     "data": {
      "text/plain": [
       "[<__main__.Node at 0x1762945f438>, <__main__.Node at 0x1762945f4e0>]"
      ]
     },
     "execution_count": 333,
     "metadata": {},
     "output_type": "execute_result"
    }
   ],
   "source": [
    "conflict_n2 = conflict_node2(delete_Unpaid_node,  OfferGift_node_L)  #コンフリクトノード\n",
    "conflict_n2"
   ]
  },
  {
   "cell_type": "code",
   "execution_count": 337,
   "metadata": {},
   "outputs": [
    {
     "data": {
      "text/plain": [
       "[<__main__.Edge at 0x1762945f668>,\n",
       " <__main__.Edge at 0x1762945f6a0>,\n",
       " <__main__.Edge at 0x1762945f6d8>,\n",
       " <__main__.Edge at 0x1762945f780>,\n",
       " <__main__.Edge at 0x1762945f7b8>,\n",
       " <__main__.Edge at 0x1762945f5f8>]"
      ]
     },
     "execution_count": 337,
     "metadata": {},
     "output_type": "execute_result"
    }
   ],
   "source": [
    "conflict_e2 = conflict_edge2(delete_Unpaid_edge, OfferGift_edge_L ) #コンフリクトエッジ\n",
    "conflict_e2"
   ]
  },
  {
   "cell_type": "code",
   "execution_count": 339,
   "metadata": {},
   "outputs": [
    {
     "data": {
      "text/plain": [
       "[<__main__.Edge at 0x1762945f668>, <__main__.Edge at 0x1762945f5f8>]"
      ]
     },
     "execution_count": 339,
     "metadata": {},
     "output_type": "execute_result"
    }
   ],
   "source": [
    "#エッジ周辺でのコンフリクト\n",
    "edge_con2 =  conflict_reason_edge(conflict_n2, conflict_e2, B_node) #コンフリクトの最小の理由（エッジについて）\n",
    "edge_con2"
   ]
  },
  {
   "cell_type": "code",
   "execution_count": 342,
   "metadata": {},
   "outputs": [],
   "source": [
    "x2 = conflict_reason_node(conflict_n2, conflict_e2, B_node) #コンフリクトの最小の理由（ノードについて）"
   ]
  },
  {
   "cell_type": "code",
   "execution_count": 343,
   "metadata": {},
   "outputs": [
    {
     "data": {
      "text/plain": [
       "[[[<__main__.Node at 0x1762945f438>],\n",
       "  [<__main__.Edge at 0x1762945f6a0>, <__main__.Edge at 0x1762945f780>]],\n",
       " [[<__main__.Node at 0x1762945f4e0>],\n",
       "  [<__main__.Edge at 0x1762945f6d8>, <__main__.Edge at 0x1762945f7b8>]]]"
      ]
     },
     "execution_count": 343,
     "metadata": {},
     "output_type": "execute_result"
    }
   ],
   "source": [
    "x2"
   ]
  },
  {
   "cell_type": "code",
   "execution_count": 344,
   "metadata": {},
   "outputs": [
    {
     "data": {
      "text/plain": [
       "[[[<__main__.Node at 0x1762945f438>,\n",
       "   <__main__.Node at 0x1762945f358>,\n",
       "   <__main__.Node at 0x1762945f470>],\n",
       "  [<__main__.Edge at 0x1762945f6a0>, <__main__.Edge at 0x1762945f780>]],\n",
       " [[<__main__.Node at 0x1762945f4e0>, <__main__.Node at 0x1762945f358>],\n",
       "  [<__main__.Edge at 0x1762945f6d8>, <__main__.Edge at 0x1762945f7b8>]]]"
      ]
     },
     "execution_count": 344,
     "metadata": {},
     "output_type": "execute_result"
    }
   ],
   "source": [
    "add_boundary_node(x2, B_node) #境界ノードの追加"
   ]
  },
  {
   "cell_type": "code",
   "execution_count": 345,
   "metadata": {},
   "outputs": [
    {
     "data": {
      "text/plain": [
       "[[[<__main__.Node at 0x1762945f390>], <__main__.Edge at 0x1762945f668>],\n",
       " [[<__main__.Node at 0x1762945f390>, <__main__.Node at 0x1762945f470>],\n",
       "  <__main__.Edge at 0x1762945f5f8>]]"
      ]
     },
     "execution_count": 345,
     "metadata": {},
     "output_type": "execute_result"
    }
   ],
   "source": [
    "add_boundary_edge(edge_con2, B_node) #境界ノードの追加"
   ]
  }
 ],
 "metadata": {
  "kernelspec": {
   "display_name": "Python 3",
   "language": "python",
   "name": "python3"
  },
  "language_info": {
   "codemirror_mode": {
    "name": "ipython",
    "version": 3
   },
   "file_extension": ".py",
   "mimetype": "text/x-python",
   "name": "python",
   "nbconvert_exporter": "python",
   "pygments_lexer": "ipython3",
   "version": "3.7.3"
  }
 },
 "nbformat": 4,
 "nbformat_minor": 2
}
