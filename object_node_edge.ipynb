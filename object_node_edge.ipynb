{
 "cells": [
  {
   "cell_type": "code",
   "execution_count": 41,
   "metadata": {},
   "outputs": [],
   "source": [
    "#ノードクラスの定義\n",
    "\n",
    "class Node:\n",
    "    \n",
    "    def __init__(self, node_name):\n",
    "        self.name = node_name\n"
   ]
  },
  {
   "cell_type": "code",
   "execution_count": 74,
   "metadata": {},
   "outputs": [],
   "source": [
    "#エッジクラスの定義\n",
    "\n",
    "class Edge:\n",
    "    \n",
    "    def __init__(self, start, end):\n",
    "        self.start = start\n",
    "        self.end = end\n",
    "            \n",
    "    def edge_elem(self):\n",
    "        return [self.start, self.end]\n",
    "    "
   ]
  },
  {
   "cell_type": "code",
   "execution_count": 43,
   "metadata": {},
   "outputs": [],
   "source": [
    "#削除されたノードの検出\n",
    "\n",
    "def delete_node(L, R):\n",
    "    \n",
    "    delete_node = []\n",
    "    \n",
    "    for i in L:\n",
    "        if i not in R:\n",
    "            delete_node.append(i)\n",
    "    \n",
    "    delete_node = list(set(delete_node))\n",
    "    \n",
    "    return delete_node"
   ]
  },
  {
   "cell_type": "code",
   "execution_count": 44,
   "metadata": {},
   "outputs": [],
   "source": [
    "#削除されたエッジの検出\n",
    "\n",
    "def delete_edge(L, R):\n",
    "\n",
    "    delete_edge = []\n",
    "    \n",
    "    for i in L:\n",
    "        if (i not in R) and (i not in delete_edge):\n",
    "            delete_edge.append(i)\n",
    "    \n",
    "    return delete_edge"
   ]
  },
  {
   "cell_type": "code",
   "execution_count": 45,
   "metadata": {},
   "outputs": [],
   "source": [
    "#境界ノードの検出\n",
    "\n",
    "def boundary_node(delete_node, delete_edge):\n",
    "    \n",
    "    d_node = delete_node\n",
    "    d_edge = delete_edge\n",
    "    boundary_node = []\n",
    "    \n",
    "    for i in d_edge:\n",
    "        boundary_node.append(i.start)  #削除エッジに含まれるものを追加\n",
    "        boundary_node.append(i.end)  #削除エッジに含まれるものを追加\n",
    "    \n",
    "    for i in d_node:\n",
    "        while i in boundary_node:\n",
    "            boundary_node.remove(i)  #削除ノードを除く\n",
    "    \n",
    "    boundary_node = list(set(boundary_node))  #重複の削除\n",
    "    \n",
    "    return boundary_node"
   ]
  },
  {
   "cell_type": "code",
   "execution_count": 46,
   "metadata": {},
   "outputs": [],
   "source": [
    "#コンフリクトしているエッジの検出\n",
    "\n",
    "def conflict_edge(delete_edge1, delete_edge2):\n",
    "    \n",
    "    list1 = delete_edge1\n",
    "    list2 = delete_edge2\n",
    "    conflict_edge = []\n",
    "    \n",
    "    for i in list1:\n",
    "        if i in list2:\n",
    "            conflict_edge.append(i)\n",
    "    \n",
    "    #conflict_edge = list(set(conflict_edge))\n",
    "    \n",
    "    return conflict_edge"
   ]
  },
  {
   "cell_type": "code",
   "execution_count": 47,
   "metadata": {},
   "outputs": [],
   "source": [
    "#コンフリクトしているノードの検出\n",
    "\n",
    "def conflict_node(delete_node1, delete_node2):\n",
    "    \n",
    "    list1 = delete_node1\n",
    "    list2 = delete_node2\n",
    "    conflict_node = []\n",
    "    \n",
    "    for i in list1:\n",
    "        if i in list2:\n",
    "            conflict_node.append(i)\n",
    "    \n",
    "    conflict_node = list(set(conflict_node))\n",
    "    \n",
    "    return conflict_node"
   ]
  },
  {
   "cell_type": "code",
   "execution_count": 48,
   "metadata": {},
   "outputs": [],
   "source": [
    "#コンフリクトの有無の判定\n",
    "\n",
    "def Conflict_occurrence(list_edge_L, list_edge_R, list_node_L, list_node_R, list2_edge_L, list2_node_L):\n",
    "\n",
    "    delete_e = delete_edge(list_edge_L, list_edge_R)\n",
    "    delete_n = delete_node(list_node_L, list_node_R)\n",
    "\n",
    "    c_edge = conflict_edge(delete_e, list2_edge_L)\n",
    "    c_node = conflict_node(delete_n, list2_node_L)\n",
    "\n",
    "    if ( len(c_edge) > 0 or len(c_node) > 0 ):\n",
    "        print(\"Conflict\")\n",
    "    else:\n",
    "        print(\"No Conflict\")"
   ]
  },
  {
   "cell_type": "code",
   "execution_count": 49,
   "metadata": {},
   "outputs": [],
   "source": [
    "#エッジの最小競合因子に境界ノードを付ける.\n",
    "\n",
    "def add_boundary_edge(reason_edge, boundary_node):\n",
    "    \n",
    "    Adjacent_node = []\n",
    "    add_boundary = []\n",
    "    \n",
    "    for i in reason_edge:\n",
    "        subset = []\n",
    "        for j in boundary_node:\n",
    "            if (j in i.edge_elem()) and (j not in subset):\n",
    "                subset.append(j)\n",
    "        Adjacent_node.append(subset)\n",
    "    \n",
    "    for i in range(len(Adjacent_node)):\n",
    "        add_boundary.append([Adjacent_node[i], reason_edge[i]])\n",
    "    \n",
    "    return add_boundary"
   ]
  },
  {
   "cell_type": "code",
   "execution_count": 50,
   "metadata": {},
   "outputs": [],
   "source": [
    "# コンフリクトの最小理由（エッジについての）\n",
    "\n",
    "def conflict_reason_edge(conflict_node, conflict_edge, boundary_node):\n",
    "    \n",
    "    node = conflict_node\n",
    "    edge = conflict_edge\n",
    "\n",
    "    reason_edge = []\n",
    "    \n",
    "    #コンフリクト因子の候補（エッジについて）\n",
    "    for i in edge:\n",
    "        count = 0\n",
    "        for j in node:\n",
    "            if j in i.edge_elem():\n",
    "                break\n",
    "            count = count+1\n",
    "        if count == len(node):\n",
    "            reason_edge.append(i)\n",
    "    \n",
    "    #reason_edge = add_boundary_edge(reason_edge,boundary_node)\n",
    "    \n",
    "    return reason_edge"
   ]
  },
  {
   "cell_type": "code",
   "execution_count": 51,
   "metadata": {},
   "outputs": [],
   "source": [
    "#コンフリクトの最小理由（ノードについての）\n",
    "\n",
    "def conflict_reason_node(conflict_node, conflict_edge, boundary_node):\n",
    "    \n",
    "    \n",
    "    reason_node = []\n",
    "    subset = []\n",
    "    Adjacent_edge = []\n",
    "    \n",
    "    #競合因子の周りのエッジの検索\n",
    "    for i in conflict_node:\n",
    "        subset = []\n",
    "        for j in conflict_edge:\n",
    "            if (i in j.edge_elem()) and (i not in subset):\n",
    "                subset.append(j)\n",
    "        Adjacent_edge.append(subset)\n",
    "    \n",
    "    #最小の競合理由リストの作成 \n",
    "    for i in range(len(conflict_node)):\n",
    "        reason_node.append([[conflict_node[i]], Adjacent_edge[i]])\n",
    "    \n",
    "    \n",
    "    \n",
    "    #for i in range(len(reason_node)):\n",
    "    #    for j in range(len(reason_node)):\n",
    "    #        if i > j:\n",
    "    #            break\n",
    "    #        else:\n",
    "    #            for k in reason_node[i][1]\n",
    "    #                if reason \n",
    "    \n",
    "    \n",
    "    \n",
    "    return reason_node"
   ]
  },
  {
   "cell_type": "code",
   "execution_count": 52,
   "metadata": {},
   "outputs": [],
   "source": [
    "#ノード周りの最小因子に境界ノードを付ける.\n",
    "\n",
    "def add_boundary_node(reason_node, boundary_node):\n",
    "    \n",
    "    Adjacent_node = []\n",
    "    add_boundary = []\n",
    "    \n",
    "    for i in reason_node:\n",
    "        if len(i) == 1:\n",
    "            continue\n",
    "        else:\n",
    "            for j in i[1]:\n",
    "                for k in j.edge_elem():\n",
    "                    if (k in boundary_node) and (k not in i[0]):\n",
    "                        i[0].append(k)\n",
    "\n",
    "    return reason_node"
   ]
  },
  {
   "cell_type": "code",
   "execution_count": null,
   "metadata": {},
   "outputs": [],
   "source": [
    "#ノードクラスのリスト作成\n",
    "def Node_create(node_list):\n",
    "    \n",
    "    node_obj_list = [0] * len(node_list)\n",
    "\n",
    "    for i in range(len(node_obj_list)):\n",
    "        node_obj_list[i] = Node(node_list[i])\n",
    "    \n",
    "    return node_obj_list\n",
    "\n",
    "#エッジリストのリスト作成\n",
    "def Edge_create(edge_list):\n",
    "    \n",
    "    edge_obj_list = [0] * len(edge_list)\n",
    "\n",
    "    for i in range(len(edge_list)):\n",
    "        edge_obj_list[i] = Edge(edge_list[i][0], edge_list[i][1])\n",
    "    \n",
    "    return edge_obj_list"
   ]
  },
  {
   "cell_type": "code",
   "execution_count": 1,
   "metadata": {},
   "outputs": [],
   "source": [
    "#データセットの読み込み \n",
    "\n",
    "#エクセルデータの名前を決定\n",
    "Excel_name = '__evernote__'    #ここに名前を入力\n",
    "\n",
    "#各ファイル名の指定\n",
    "modify_excel = 'ModifyNode' + Excel_name + '.xlsx'\n",
    "Edge_excel   = 'Edge_list'   + Excel_name + '.xlsx'\n",
    "Node_L_excel = 'Node_L' + Excel_name + '.xlsx'\n",
    "\n",
    "#pandasでエクセルファイルの読み込み\n",
    "import pandas as pd\n",
    "modify_pd = pd.read_excel(modify_excel)\n",
    "Edge_pd = pd.read_excel(Edge_excel)\n",
    "Node_L_pd = pd.read_excel(Node_L_excel)\n",
    "\n",
    "#pandasデータフレームをリストに変換\n",
    "modify_node = modify_pd.values.tolist()\n",
    "Edge_list = Edge_pd .values.tolist()\n",
    "Node_L = Node_L_pd.values.tolist()"
   ]
  },
  {
   "cell_type": "code",
   "execution_count": null,
   "metadata": {},
   "outputs": [],
   "source": []
  },
  {
   "cell_type": "code",
   "execution_count": 53,
   "metadata": {},
   "outputs": [],
   "source": [
    "#データ(returnUnpaidGood)\n",
    "\n",
    "#すべてのノード\n",
    "Customer = Node(\"Customer\")\n",
    "Order = Node(\"Order\")\n",
    "Stock = Node(\"Stock\")\n",
    "Bill = Node(\"Bill\")\n",
    "OrderItem = Node(\"OrderItem\")\n",
    "Good = Node(\"Good\")\n",
    "BillItem = Node(\"BillItem\")\n",
    "OrderItem2 = Node(\"OrderItem\")\n",
    "Good2 = Node(\"Good\")\n",
    "GiftOffer = Node(\"GiftOffer\")\n",
    "\n",
    "#すべてのエッジ\n",
    "orders = Edge(Customer,Order)\n",
    "owns = Edge(Customer,Good)\n",
    "owns2 = Edge(Customer,Good2)\n",
    "items = Edge(Order,OrderItem)\n",
    "items2 = Edge(Order,OrderItem2)\n",
    "items3 =  Edge(Bill, BillItem)\n",
    "bills = Edge(Customer,Bill)\n",
    "goods = Edge(OrderItem, Good)\n",
    "goods2 = Edge(OrderItem2, Good2) \n",
    "goods3 = Edge(BillItem, Good)\n",
    "goods4 = Edge(Stock, Good)\n",
    "giftOffers = Edge(Customer, GiftOffer) \n",
    "\n",
    "\n",
    "#データ(unpaidGood)\n",
    "Unpaid_node_L = [Customer, Order, Stock, Bill, OrderItem, Good, BillItem]\n",
    "Unpaid_node_R = [Customer, Order, Stock, Bill, Good]\n",
    "\n",
    "Unpaid_edge_L = [orders, items, items3, owns, bills, goods, goods3]\n",
    "Unpaid_edge_R = [orders, bills, goods4]\n",
    "\n",
    "\n",
    "#データ(OfferGift)\n",
    "OfferGift_node_L = [Order, Customer, OrderItem, Good, OrderItem2, Good2]\n",
    "OfferGift_node_R = [Order, Customer, OrderItem, Good, OrderItem2, Good2, GiftOffer]\n",
    "\n",
    "OfferGift_edge_L = [orders, items, items2, goods, goods2, owns, owns2]\n",
    "OfferGift_edge_R = [orders, items, items2, goods, goods2, owns, owns2, giftOffers]"
   ]
  },
  {
   "cell_type": "code",
   "execution_count": null,
   "metadata": {},
   "outputs": [],
   "source": []
  },
  {
   "cell_type": "code",
   "execution_count": null,
   "metadata": {},
   "outputs": [],
   "source": []
  },
  {
   "cell_type": "code",
   "execution_count": 54,
   "metadata": {},
   "outputs": [
    {
     "data": {
      "text/plain": [
       "[<__main__.Node at 0x1d949253898>, <__main__.Node at 0x1d949253828>]"
      ]
     },
     "execution_count": 54,
     "metadata": {},
     "output_type": "execute_result"
    }
   ],
   "source": [
    "delete_Unpaid_node = delete_node(Unpaid_node_L, Unpaid_node_R)  #削除ノードの検索\n",
    "delete_Unpaid_node"
   ]
  },
  {
   "cell_type": "code",
   "execution_count": 55,
   "metadata": {},
   "outputs": [
    {
     "data": {
      "text/plain": [
       "[<__main__.Edge at 0x1d949253a20>,\n",
       " <__main__.Edge at 0x1d949253a90>,\n",
       " <__main__.Edge at 0x1d9492539b0>,\n",
       " <__main__.Edge at 0x1d949253b00>,\n",
       " <__main__.Edge at 0x1d949253b70>]"
      ]
     },
     "execution_count": 55,
     "metadata": {},
     "output_type": "execute_result"
    }
   ],
   "source": [
    "delete_Unpaid_edge = delete_edge(Unpaid_edge_L, Unpaid_edge_R) #削除エッジの検索\n",
    "delete_Unpaid_edge"
   ]
  },
  {
   "cell_type": "code",
   "execution_count": 56,
   "metadata": {},
   "outputs": [
    {
     "data": {
      "text/plain": [
       "[<__main__.Node at 0x1d949253780>,\n",
       " <__main__.Node at 0x1d949253748>,\n",
       " <__main__.Node at 0x1d949253860>,\n",
       " <__main__.Node at 0x1d9492537f0>]"
      ]
     },
     "execution_count": 56,
     "metadata": {},
     "output_type": "execute_result"
    }
   ],
   "source": [
    "B_node = boundary_node(delete_Unpaid_node, delete_Unpaid_edge)  #境界ノードの検索\n",
    "B_node"
   ]
  },
  {
   "cell_type": "code",
   "execution_count": 57,
   "metadata": {},
   "outputs": [
    {
     "data": {
      "text/plain": [
       "[<__main__.Edge at 0x1d949253a20>,\n",
       " <__main__.Edge at 0x1d9492539b0>,\n",
       " <__main__.Edge at 0x1d949253b00>]"
      ]
     },
     "execution_count": 57,
     "metadata": {},
     "output_type": "execute_result"
    }
   ],
   "source": [
    "conflict_e = conflict_edge(delete_Unpaid_edge, OfferGift_edge_L ) #コンフリクトエッジ\n",
    "conflict_e"
   ]
  },
  {
   "cell_type": "code",
   "execution_count": 58,
   "metadata": {},
   "outputs": [
    {
     "data": {
      "text/plain": [
       "[<__main__.Node at 0x1d949253828>]"
      ]
     },
     "execution_count": 58,
     "metadata": {},
     "output_type": "execute_result"
    }
   ],
   "source": [
    "conflict_n = conflict_node(delete_Unpaid_node,  OfferGift_node_L)  #コンフリクトノード\n",
    "conflict_n"
   ]
  },
  {
   "cell_type": "code",
   "execution_count": 59,
   "metadata": {},
   "outputs": [
    {
     "name": "stdout",
     "output_type": "stream",
     "text": [
      "Conflict\n"
     ]
    }
   ],
   "source": [
    "#コンフリクトの有無\n",
    "Conflict_occurrence(Unpaid_edge_L, Unpaid_edge_R ,Unpaid_node_L, Unpaid_node_R, OfferGift_edge_L, OfferGift_node_L)"
   ]
  },
  {
   "cell_type": "code",
   "execution_count": 60,
   "metadata": {},
   "outputs": [
    {
     "data": {
      "text/plain": [
       "[<__main__.Edge at 0x1d9492539b0>]"
      ]
     },
     "execution_count": 60,
     "metadata": {},
     "output_type": "execute_result"
    }
   ],
   "source": [
    "#エッジ周辺でのコンフリクト\n",
    "edge_con =  conflict_reason_edge(conflict_n, conflict_e, B_node) #コンフリクトの最小の理由（エッジについて）\n",
    "edge_con"
   ]
  },
  {
   "cell_type": "code",
   "execution_count": 61,
   "metadata": {},
   "outputs": [
    {
     "data": {
      "text/plain": [
       "[[[<__main__.Node at 0x1d949253780>, <__main__.Node at 0x1d949253860>],\n",
       "  <__main__.Edge at 0x1d9492539b0>]]"
      ]
     },
     "execution_count": 61,
     "metadata": {},
     "output_type": "execute_result"
    }
   ],
   "source": [
    "add_boundary_edge(edge_con, B_node) #境界ノード追加"
   ]
  },
  {
   "cell_type": "code",
   "execution_count": 62,
   "metadata": {},
   "outputs": [],
   "source": [
    "x = conflict_reason_node(conflict_n, conflict_e, B_node) #コンフリクトの最小の理由（ノードについて）"
   ]
  },
  {
   "cell_type": "code",
   "execution_count": 63,
   "metadata": {},
   "outputs": [
    {
     "data": {
      "text/plain": [
       "[[<__main__.Node at 0x1d949253828>],\n",
       " [<__main__.Edge at 0x1d949253a20>, <__main__.Edge at 0x1d949253b00>]]"
      ]
     },
     "execution_count": 63,
     "metadata": {},
     "output_type": "execute_result"
    }
   ],
   "source": [
    "x[0]"
   ]
  },
  {
   "cell_type": "code",
   "execution_count": 64,
   "metadata": {},
   "outputs": [
    {
     "data": {
      "text/plain": [
       "[[[<__main__.Node at 0x1d949253828>,\n",
       "   <__main__.Node at 0x1d949253748>,\n",
       "   <__main__.Node at 0x1d949253860>],\n",
       "  [<__main__.Edge at 0x1d949253a20>, <__main__.Edge at 0x1d949253b00>]]]"
      ]
     },
     "execution_count": 64,
     "metadata": {},
     "output_type": "execute_result"
    }
   ],
   "source": [
    "add_boundary_node(x, B_node) #境界ノードの追加"
   ]
  },
  {
   "cell_type": "code",
   "execution_count": null,
   "metadata": {},
   "outputs": [],
   "source": []
  },
  {
   "cell_type": "code",
   "execution_count": null,
   "metadata": {},
   "outputs": [],
   "source": []
  },
  {
   "cell_type": "code",
   "execution_count": null,
   "metadata": {},
   "outputs": [],
   "source": []
  },
  {
   "cell_type": "code",
   "execution_count": 65,
   "metadata": {},
   "outputs": [],
   "source": [
    "#コンフリクトしているノードの検出 (2段階目)\n",
    "\n",
    "def conflict_node2(delete_node1, delete_node2):\n",
    "    \n",
    "    list1 = delete_node1\n",
    "    list2 = delete_node2\n",
    "    conflict_node = []\n",
    "    \n",
    "    for i in list1:\n",
    "        for j in list2:\n",
    "            if i.name == j.name:\n",
    "                conflict_node.append(i)\n",
    "                conflict_node.append(j)\n",
    "    \n",
    "    conflict_node = list(set(conflict_node))\n",
    "    \n",
    "    return conflict_node"
   ]
  },
  {
   "cell_type": "code",
   "execution_count": 66,
   "metadata": {},
   "outputs": [],
   "source": [
    "#コンフリクトしているエッジの検出  (2段階目)\n",
    "\n",
    "def conflict_edge2(delete_edge1, delete_edge2):\n",
    "    \n",
    "    list1 = delete_edge1\n",
    "    list2 = delete_edge2\n",
    "    conflict_edge = []\n",
    "\n",
    "    for i in list1:\n",
    "        for j in list2:\n",
    "            if [i.start, i.end] == [j.start, j.end]:\n",
    "                conflict_edge.append(i)\n",
    "                conflict_edge.append(j)\n",
    "\n",
    "    conflict_edge = list(set(conflict_edge))\n",
    "\n",
    "    return conflict_edge"
   ]
  },
  {
   "cell_type": "code",
   "execution_count": 67,
   "metadata": {},
   "outputs": [
    {
     "data": {
      "text/plain": [
       "[<__main__.Node at 0x1d949253828>, <__main__.Node at 0x1d9492538d0>]"
      ]
     },
     "execution_count": 67,
     "metadata": {},
     "output_type": "execute_result"
    }
   ],
   "source": [
    "conflict_n2 = conflict_node2(delete_Unpaid_node,  OfferGift_node_L)  #コンフリクトノード\n",
    "conflict_n2"
   ]
  },
  {
   "cell_type": "code",
   "execution_count": 68,
   "metadata": {},
   "outputs": [
    {
     "data": {
      "text/plain": [
       "[<__main__.Edge at 0x1d949253b00>,\n",
       " <__main__.Edge at 0x1d949253a20>,\n",
       " <__main__.Edge at 0x1d9492539b0>]"
      ]
     },
     "execution_count": 68,
     "metadata": {},
     "output_type": "execute_result"
    }
   ],
   "source": [
    "conflict_e2 = conflict_edge2(delete_Unpaid_edge, OfferGift_edge_L ) #コンフリクトエッジ\n",
    "conflict_e2"
   ]
  },
  {
   "cell_type": "code",
   "execution_count": 69,
   "metadata": {},
   "outputs": [
    {
     "data": {
      "text/plain": [
       "[<__main__.Edge at 0x1d9492539b0>]"
      ]
     },
     "execution_count": 69,
     "metadata": {},
     "output_type": "execute_result"
    }
   ],
   "source": [
    "#エッジ周辺でのコンフリクト\n",
    "edge_con2 =  conflict_reason_edge(conflict_n2, conflict_e2, B_node) #コンフリクトの最小の理由（エッジについて）\n",
    "edge_con2"
   ]
  },
  {
   "cell_type": "code",
   "execution_count": 70,
   "metadata": {},
   "outputs": [],
   "source": [
    "x2 = conflict_reason_node(conflict_n2, conflict_e2, B_node) #コンフリクトの最小の理由（ノードについて）"
   ]
  },
  {
   "cell_type": "code",
   "execution_count": 71,
   "metadata": {},
   "outputs": [
    {
     "data": {
      "text/plain": [
       "[[[<__main__.Node at 0x1d949253828>],\n",
       "  [<__main__.Edge at 0x1d949253b00>, <__main__.Edge at 0x1d949253a20>]],\n",
       " [[<__main__.Node at 0x1d9492538d0>], []]]"
      ]
     },
     "execution_count": 71,
     "metadata": {},
     "output_type": "execute_result"
    }
   ],
   "source": [
    "x2"
   ]
  },
  {
   "cell_type": "code",
   "execution_count": 72,
   "metadata": {},
   "outputs": [
    {
     "data": {
      "text/plain": [
       "[[[<__main__.Node at 0x1d949253828>,\n",
       "   <__main__.Node at 0x1d949253860>,\n",
       "   <__main__.Node at 0x1d949253748>],\n",
       "  [<__main__.Edge at 0x1d949253b00>, <__main__.Edge at 0x1d949253a20>]],\n",
       " [[<__main__.Node at 0x1d9492538d0>], []]]"
      ]
     },
     "execution_count": 72,
     "metadata": {},
     "output_type": "execute_result"
    }
   ],
   "source": [
    "add_boundary_node(x2, B_node) #境界ノードの追加"
   ]
  },
  {
   "cell_type": "code",
   "execution_count": 73,
   "metadata": {},
   "outputs": [
    {
     "data": {
      "text/plain": [
       "[[[<__main__.Node at 0x1d949253780>, <__main__.Node at 0x1d949253860>],\n",
       "  <__main__.Edge at 0x1d9492539b0>]]"
      ]
     },
     "execution_count": 73,
     "metadata": {},
     "output_type": "execute_result"
    }
   ],
   "source": [
    "add_boundary_edge(edge_con2, B_node) #境界ノードの追加"
   ]
  }
 ],
 "metadata": {
  "kernelspec": {
   "display_name": "Python 3",
   "language": "python",
   "name": "python3"
  },
  "language_info": {
   "codemirror_mode": {
    "name": "ipython",
    "version": 3
   },
   "file_extension": ".py",
   "mimetype": "text/x-python",
   "name": "python",
   "nbconvert_exporter": "python",
   "pygments_lexer": "ipython3",
   "version": "3.7.3"
  }
 },
 "nbformat": 4,
 "nbformat_minor": 2
}
