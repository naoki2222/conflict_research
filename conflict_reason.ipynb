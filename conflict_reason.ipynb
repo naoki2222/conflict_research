{
 "cells": [
  {
   "cell_type": "code",
   "execution_count": 2,
   "metadata": {},
   "outputs": [
    {
     "name": "stderr",
     "output_type": "stream",
     "text": [
      "'git' は、内部コマンドまたは外部コマンド、\n",
      "操作可能なプログラムまたはバッチ ファイルとして認識されていません。\n"
     ]
    }
   ],
   "source": [
    "!git clone https://github.com/naoki2222/conflict_research.git"
   ]
  },
  {
   "cell_type": "code",
   "execution_count": 1,
   "metadata": {},
   "outputs": [],
   "source": [
    "#削除されたノードの検出\n",
    "\n",
    "def delete_node(L, R):\n",
    "    \n",
    "    delete_node = []\n",
    "    \n",
    "    for i in L:\n",
    "        if i not in R:\n",
    "            delete_node.append(i)\n",
    "    \n",
    "    delete_node = list(set(delete_node))\n",
    "    \n",
    "    return delete_node"
   ]
  },
  {
   "cell_type": "code",
   "execution_count": 2,
   "metadata": {},
   "outputs": [],
   "source": [
    "#削除されたエッジの検出\n",
    "\n",
    "def delete_edge(L, R):\n",
    "    \n",
    "    delete_edge = []\n",
    "    \n",
    "    for i in L:\n",
    "        if (i not in R) and (i not in delete_edge):\n",
    "            delete_edge.append(i)\n",
    "    \n",
    "    return delete_edge"
   ]
  },
  {
   "cell_type": "code",
   "execution_count": 3,
   "metadata": {},
   "outputs": [],
   "source": [
    "#境界ノードの検出\n",
    "\n",
    "def boundary_node(delete_node, delete_edge):\n",
    "    \n",
    "    d_node = delete_node\n",
    "    d_edge = delete_edge\n",
    "    boundary_node = []\n",
    "    \n",
    "    for i in d_edge:\n",
    "        boundary_node.append(i[0])  #削除エッジに含まれるものを追加\n",
    "        boundary_node.append(i[1])  #削除エッジに含まれるものを追加\n",
    "    \n",
    "    for i in d_node:\n",
    "        while i in boundary_node:\n",
    "            boundary_node.remove(i)  #削除ノードを除く\n",
    "    \n",
    "    boundary_node = list(set(boundary_node))  #重複の削除\n",
    "    \n",
    "    return boundary_node"
   ]
  },
  {
   "cell_type": "code",
   "execution_count": 4,
   "metadata": {},
   "outputs": [],
   "source": [
    "#コンフリクトしているエッジの検出\n",
    "\n",
    "def conflict_edge(delete_edge1, delete_edge2):\n",
    "    \n",
    "    list1 = delete_edge1\n",
    "    list2 = delete_edge2\n",
    "    conflict_edge = []\n",
    "    \n",
    "    for i in list1:\n",
    "        if i in list2:\n",
    "            conflict_edge.append(i)\n",
    "    \n",
    "    #conflict_edge = list(set(conflict_edge))\n",
    "    \n",
    "    return conflict_edge"
   ]
  },
  {
   "cell_type": "code",
   "execution_count": 5,
   "metadata": {},
   "outputs": [],
   "source": [
    "#コンフリクトしているノードの検出\n",
    "\n",
    "def conflict_node(delete_node1, delete_node2):\n",
    "    \n",
    "    list1 = delete_node1\n",
    "    list2 = delete_node2\n",
    "    conflict_node = []\n",
    "    \n",
    "    for i in list1:\n",
    "        if i in list2:\n",
    "            conflict_node.append(i)\n",
    "    \n",
    "    conflict_node = list(set(conflict_node))\n",
    "    \n",
    "    return conflict_node"
   ]
  },
  {
   "cell_type": "code",
   "execution_count": 6,
   "metadata": {},
   "outputs": [],
   "source": [
    "#コンフリクトの有無の判定\n",
    "\n",
    "def Conflict_occurrence(list_edge_L, list_edge_R, list_node_L, list_node_R, list2_edge_L, list2_node_L):\n",
    "    \n",
    "    delete_e = delete_edge(list_edge_L, list_edge_R)\n",
    "    delete_n = delete_node(list_node_L, list_node_R)\n",
    "    \n",
    "    c_edge = conflict_edge(delete_e, list2_edge_L)\n",
    "    c_node = conflict_node(delete_n, list2_node_L)\n",
    "    \n",
    "    if ( len(c_edge) > 0 or len(c_node) > 0 ):\n",
    "        print(\"Conflict\")\n",
    "    else:\n",
    "        print(\"No Conflict\")"
   ]
  },
  {
   "cell_type": "code",
   "execution_count": 7,
   "metadata": {},
   "outputs": [],
   "source": [
    "#エッジの最小競合因子に境界ノードを付ける.\n",
    "\n",
    "def add_boundary_edge(reason_edge, boundary_node):\n",
    "    \n",
    "    Adjacent_node = []\n",
    "    add_boundary = []\n",
    "    \n",
    "    for i in reason_edge:\n",
    "        subset = []\n",
    "        for j in boundary_node:\n",
    "            if (j in i) and (j not in subset):\n",
    "                subset.append(j)\n",
    "        Adjacent_node.append(subset)\n",
    "    \n",
    "    for i in range(len(Adjacent_node)):\n",
    "        add_boundary.append([Adjacent_node[i], reason_edge[i]])\n",
    "    \n",
    "    return add_boundary"
   ]
  },
  {
   "cell_type": "code",
   "execution_count": 8,
   "metadata": {},
   "outputs": [],
   "source": [
    "# コンフリクトの最小理由（エッジについての）\n",
    "\n",
    "def conflict_reason_edge(conflict_node, conflict_edge, boundary_node):\n",
    "    \n",
    "    node = conflict_node\n",
    "    edge = conflict_edge\n",
    "    \n",
    "    reason_edge = []\n",
    "    \n",
    "    #コンフリクト因子の候補（エッジについて）\n",
    "    for i in edge:\n",
    "        count = 0\n",
    "        for j in node:\n",
    "            if j in i:\n",
    "                break\n",
    "            count = count+1\n",
    "        if count == len(node):\n",
    "            reason_edge.append(i)\n",
    "    \n",
    "    #reason_edge = add_boundary_edge(reason_edge,boundary_node)\n",
    "    \n",
    "    return reason_edge"
   ]
  },
  {
   "cell_type": "code",
   "execution_count": 9,
   "metadata": {},
   "outputs": [],
   "source": [
    "#コンフリクトの最小理由（ノードについての）\n",
    "\n",
    "def conflict_reason_node(conflict_node, conflict_edge, boundary_node):\n",
    "    \n",
    "    \n",
    "    reason_node = []\n",
    "    subset = []\n",
    "    Adjacent_edge = []\n",
    "    \n",
    "    #競合因子の周りのエッジの検索\n",
    "    for i in conflict_node:\n",
    "        subset = []\n",
    "        for j in conflict_edge:\n",
    "            if (i in j) and (i not in subset):\n",
    "                subset.append(j)\n",
    "        Adjacent_edge.append(subset)\n",
    "    \n",
    "    #最小の競合理由リストの作成 \n",
    "    for i in range(len(conflict_node)):\n",
    "        reason_node.append([[conflict_node[i]], Adjacent_edge[i]])\n",
    "    \n",
    "    \n",
    "    \n",
    "    #for i in range(len(reason_node)):\n",
    "    #    for j in range(len(reason_node)):\n",
    "    #        if i > j:\n",
    "    #            break\n",
    "    #        else:\n",
    "    #            for k in reason_node[i][1]\n",
    "    #                if reason \n",
    "    \n",
    "    \n",
    "    \n",
    "    return reason_node"
   ]
  },
  {
   "cell_type": "code",
   "execution_count": 10,
   "metadata": {},
   "outputs": [],
   "source": [
    "#ノード周りの最小因子に境界ノードを付ける.\n",
    "\n",
    "def add_boundary_node(reason_node, boundary_node):\n",
    "    \n",
    "    Adjacent_node = []\n",
    "    add_boundary = []\n",
    "    \n",
    "    for i in reason_node:\n",
    "        if len(i) == 1:\n",
    "            continue\n",
    "        else:\n",
    "            for j in i[1]:\n",
    "                for k in j:\n",
    "                    if (k in boundary_node) and (k not in i[0]):\n",
    "                        i[0].append(k)\n",
    "\n",
    "    return reason_node"
   ]
  },
  {
   "cell_type": "code",
   "execution_count": null,
   "metadata": {},
   "outputs": [],
   "source": []
  },
  {
   "cell_type": "code",
   "execution_count": null,
   "metadata": {},
   "outputs": [],
   "source": []
  },
  {
   "cell_type": "code",
   "execution_count": null,
   "metadata": {},
   "outputs": [],
   "source": []
  },
  {
   "cell_type": "code",
   "execution_count": 11,
   "metadata": {},
   "outputs": [],
   "source": [
    "#データセット１\n",
    "\n",
    "\n",
    "\n",
    "#データ(returnUnpaidGood)\n",
    "Unpaid_node_L = [\"Customer\", \"Order\",\"Stock\",\"Bill\",\"OrderItem\",\"Good\",\"BillItem\"]\n",
    "Unpaid_node_R = [\"Customer\", \"Order\",\"Stock\",\"Bill\",\"Good\"]\n",
    "\n",
    "Unpaid_edge_L = [[\"Customer\",\"Good\"],\n",
    "                 [\"Customer\",\"Order\"],\n",
    "                 [\"Customer\",\"Bill\"],\n",
    "                 [\"Order\",\"OrderItem\"],\n",
    "                 [\"OrderItem\",\"Good\"],\n",
    "                 [\"Bill\",\"BillItem\"],\n",
    "                 [\"BillItem\",\"Good\"]]\n",
    "\n",
    "Unpaid_edge_R = [[\"Customer\",\"Order\"],\n",
    "                 [\"Customer\",\"Bill\"],\n",
    "                 [\"Stock\",\"Good\"]]\n",
    "\n",
    "\n",
    "\n",
    "#データ(OfferGift)\n",
    "OfferGift_node_L = [\"Order\",\"Customer\",\"OrderItem\",\"Good\",\"OrderItem2\",\"Good2\"]\n",
    "OfferGift_node_R = [\"Order\",\"Customer\",\"OrderItem\",\"Good\",\"OrderItem2\",\"Good2\",\"GiftOffer\"]\n",
    "\n",
    "OfferGift_edge_L = [[\"Customer\",\"Order\"],\n",
    "                    [\"Customer\",\"Good\"],\n",
    "                    [\"Customer\",\"Good2\"],\n",
    "                    [\"Order\",\"OrderItem\"],\n",
    "                    [\"Order\",\"OrderItem2\"],\n",
    "                    [\"OrderItem\",\"Good\"],\n",
    "                    [\"OrderItem2\",\"Good2\"]]\n",
    "\n",
    "OfferGift_edge_R = [[\"Customer\",\"Order\"],\n",
    "                    [\"Customer\",\"Good\"],\n",
    "                    [\"Customer\",\"Good2\"],\n",
    "                    [\"Order\",\"OrderItem\"],\n",
    "                    [\"Order\",\"OrderItem2\"],\n",
    "                    [\"OrderItem\",\"Good\"],\n",
    "                    [\"OrderItem2\",\"Good2\"],\n",
    "                    [\"Customer\",\"GiftOffer\"]]"
   ]
  },
  {
   "cell_type": "code",
   "execution_count": 12,
   "metadata": {},
   "outputs": [],
   "source": [
    "delete_Unpaid_node = delete_node(Unpaid_node_L, Unpaid_node_R)  #削除ノード"
   ]
  },
  {
   "cell_type": "code",
   "execution_count": 13,
   "metadata": {},
   "outputs": [],
   "source": [
    "delete_Unpaid_edge = delete_edge(Unpaid_edge_L, Unpaid_edge_R) #削除エッジ"
   ]
  },
  {
   "cell_type": "code",
   "execution_count": 14,
   "metadata": {},
   "outputs": [],
   "source": [
    "B_node = boundary_node(delete_Unpaid_node, delete_Unpaid_edge)  #境界ノード"
   ]
  },
  {
   "cell_type": "code",
   "execution_count": 15,
   "metadata": {},
   "outputs": [],
   "source": [
    "conflict_e = conflict_edge(delete_Unpaid_edge, OfferGift_edge_L ) #コンフリクトエッジ"
   ]
  },
  {
   "cell_type": "code",
   "execution_count": 16,
   "metadata": {},
   "outputs": [],
   "source": [
    "conflict_n = conflict_node(delete_Unpaid_node,  OfferGift_node_L)  #コンフリクトノード"
   ]
  },
  {
   "cell_type": "code",
   "execution_count": 17,
   "metadata": {},
   "outputs": [
    {
     "name": "stdout",
     "output_type": "stream",
     "text": [
      "Conflict\n"
     ]
    }
   ],
   "source": [
    "#コンフリクトの有無\n",
    "Conflict_occurrence(Unpaid_edge_L, Unpaid_edge_R ,Unpaid_node_L, Unpaid_node_R, OfferGift_edge_L, OfferGift_node_L)"
   ]
  },
  {
   "cell_type": "code",
   "execution_count": 18,
   "metadata": {},
   "outputs": [],
   "source": [
    "#エッジ周辺でのコンフリクト\n",
    "edge_con =  conflict_reason_edge(conflict_n, conflict_e, B_node) #コンフリクトの最小の理由（エッジについて）"
   ]
  },
  {
   "cell_type": "code",
   "execution_count": 19,
   "metadata": {},
   "outputs": [
    {
     "data": {
      "text/plain": [
       "[['Customer', 'Good']]"
      ]
     },
     "execution_count": 19,
     "metadata": {},
     "output_type": "execute_result"
    }
   ],
   "source": [
    "edge_con  #中身の確認"
   ]
  },
  {
   "cell_type": "code",
   "execution_count": 20,
   "metadata": {},
   "outputs": [
    {
     "data": {
      "text/plain": [
       "[[['Customer', 'Good'], ['Customer', 'Good']]]"
      ]
     },
     "execution_count": 20,
     "metadata": {},
     "output_type": "execute_result"
    }
   ],
   "source": [
    "add_boundary_edge(edge_con, B_node) #境界ノード追加"
   ]
  },
  {
   "cell_type": "code",
   "execution_count": 21,
   "metadata": {},
   "outputs": [],
   "source": [
    "x = conflict_reason_node(conflict_n, conflict_e, B_node) #コンフリクトの最小の理由（ノードについて）"
   ]
  },
  {
   "cell_type": "code",
   "execution_count": 22,
   "metadata": {},
   "outputs": [
    {
     "data": {
      "text/plain": [
       "[[['OrderItem'], [['Order', 'OrderItem'], ['OrderItem', 'Good']]]]"
      ]
     },
     "execution_count": 22,
     "metadata": {},
     "output_type": "execute_result"
    }
   ],
   "source": [
    "x  #中身の確認"
   ]
  },
  {
   "cell_type": "code",
   "execution_count": 23,
   "metadata": {},
   "outputs": [
    {
     "data": {
      "text/plain": [
       "[[['OrderItem', 'Order', 'Good'],\n",
       "  [['Order', 'OrderItem'], ['OrderItem', 'Good']]]]"
      ]
     },
     "execution_count": 23,
     "metadata": {},
     "output_type": "execute_result"
    }
   ],
   "source": [
    "add_boundary_node(x, B_node) #境界ノードの追加"
   ]
  }
 ],
 "metadata": {
  "kernelspec": {
   "display_name": "Python 3",
   "language": "python",
   "name": "python3"
  },
  "language_info": {
   "codemirror_mode": {
    "name": "ipython",
    "version": 3
   },
   "file_extension": ".py",
   "mimetype": "text/x-python",
   "name": "python",
   "nbconvert_exporter": "python",
   "pygments_lexer": "ipython3",
   "version": "3.7.3"
  }
 },
 "nbformat": 4,
 "nbformat_minor": 2
}
