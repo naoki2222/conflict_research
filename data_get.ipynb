{
 "cells": [
  {
   "cell_type": "code",
   "execution_count": null,
   "metadata": {},
   "outputs": [],
   "source": [
    "# !pip install gitpython"
   ]
  },
  {
   "cell_type": "code",
   "execution_count": 29,
   "metadata": {},
   "outputs": [],
   "source": [
    "line_data = 'C:/Users/jackp/Research/spatical_scan/file.txt'\n",
    "repo_name = 'C:/Users/jackp/Research/repository/android-job'\n",
    "until_data = '2019-6-18'\n",
    "since_data = '2018-6-11'\n",
    "dot_name = 'C:/Users/jackp/Research/spatical_scan/all_jar.dot'"
   ]
  },
  {
   "cell_type": "code",
   "execution_count": null,
   "metadata": {},
   "outputs": [],
   "source": []
  },
  {
   "cell_type": "code",
   "execution_count": 23,
   "metadata": {},
   "outputs": [],
   "source": [
    "#変更されたノードの取得\n",
    "from git import *\n",
    "import datetime, time\n",
    "\n",
    "\n",
    "def change_node(repo_name, until_data, since_data, branch_name):\n",
    "\n",
    "    #コミットリストの作成\n",
    "    list1 = []\n",
    "    repo = Repo(repo_name)\n",
    "    #print('hexsha,author,authored_date,file_name,deletions,lines,insertions')\n",
    "    for item in repo.iter_commits(branch_name , until = until_data ,since = since_data):\n",
    "        file_list = item.stats.files\n",
    "        for file_name in file_list:\n",
    "        #    dt = datetime.datetime.fromtimestamp(item.authored_date).strftime(\"%Y-%m-%d %H:%M:%S\")\n",
    "        #    insertions = file_list.get(file_name).get('insertions')\n",
    "        #    deletions = file_list.get(file_name).get('deletions')\n",
    "        #    lines = file_list.get(file_name).get('lines')\n",
    "             list1.append(file_name)\n",
    "\n",
    "    list1 =list(set(list1))\n",
    "    \n",
    "    return list1"
   ]
  },
  {
   "cell_type": "code",
   "execution_count": 24,
   "metadata": {},
   "outputs": [],
   "source": [
    "node_list = change_node(repo_name, until_data, since_data, branch_name = 'master')"
   ]
  },
  {
   "cell_type": "code",
   "execution_count": 21,
   "metadata": {},
   "outputs": [],
   "source": [
    "node_list =list(set(node_list))"
   ]
  },
  {
   "cell_type": "code",
   "execution_count": 25,
   "metadata": {},
   "outputs": [
    {
     "data": {
      "text/plain": [
       "['README.md',\n",
       " 'library/src/main/java/com/evernote/android/job/work/JobProxyWorkManager.java',\n",
       " 'library/src/main/java/android/support/v4/app/SafeJobIntentService.java',\n",
       " 'library/src/main/java/com/evernote/android/job/JobApi.java',\n",
       " 'library/src/main/java/com/evernote/android/job/JobRequest.java',\n",
       " 'demo/src/main/java/com/evernote/android/job/demo/DemoSyncEngine.java',\n",
       " 'CHANGELOG.md',\n",
       " 'library/src/main/java/com/evernote/android/job/work/PlatformWorker.java',\n",
       " 'library/src/main/java/com/evernote/android/job/util/support/PersistableBundleCompat.java',\n",
       " 'gradle/wrapper/gradle-wrapper.jar',\n",
       " 'library/src/main/java/com/evernote/android/job/JobProxy.java',\n",
       " 'library/src/main/java/com/evernote/android/job/v26/JobProxy26.java',\n",
       " 'library/src/test/java/com/evernote/android/job/JobRequirementTest.java',\n",
       " 'library/src/main/java/com/evernote/android/job/JobManager.java',\n",
       " 'library/src/androidTest/java/com/evernote/android/job/work/PlatformWorkManagerTest.java',\n",
       " 'library/build.gradle',\n",
       " 'gradle/wrapper/gradle-wrapper.properties',\n",
       " 'build.gradle',\n",
       " 'library/src/main/java/com/evernote/android/job/gcm/JobProxyGcm.java',\n",
       " 'library/src/main/java/com/evernote/android/job/util/Device.java',\n",
       " 'library/src/main/java/com/evernote/android/job/GcmAvailableHelper.java',\n",
       " 'library/src/main/java/com/evernote/android/job/JobRescheduleService.java',\n",
       " 'library/src/test/java/com/evernote/android/job/util/DeviceTest.java',\n",
       " 'gradle.properties',\n",
       " 'library/src/androidTest/java/com/evernote/android/job/PlatformWorkManagerRule.java',\n",
       " 'library/src/test/java/com/evernote/android/job/JobExecutionTest.java',\n",
       " 'library/src/main/java/android/support/v4/app/SafeJobServiceEngineImpl.java']"
      ]
     },
     "execution_count": 25,
     "metadata": {},
     "output_type": "execute_result"
    }
   ],
   "source": [
    "node_list"
   ]
  },
  {
   "cell_type": "code",
   "execution_count": null,
   "metadata": {},
   "outputs": [],
   "source": []
  },
  {
   "cell_type": "code",
   "execution_count": 32,
   "metadata": {},
   "outputs": [],
   "source": [
    "#テキストデータ読み込み\n",
    "col0 = []\n",
    "col1 = []\n",
    "for i, line in enumerate(open(line_data,'r',encoding=\"utf-8\")): # ファイルを開いて一行一行読み込む\n",
    "    c = line.lstrip().split(\" \")\n",
    "    c[0]=c[0].strip()\n",
    "    c[1]=c[1].strip()\n",
    "    col0.append((c[0]))\n",
    "    col1.append((c[1]))\n",
    "\n",
    "\n",
    "#ファイル行数のリストを作成\n",
    "file_lines = []\n",
    "for x in col1:\n",
    "    file_lines.append(x)        # x : ファイル名   y : ファイル行数"
   ]
  },
  {
   "cell_type": "code",
   "execution_count": 33,
   "metadata": {},
   "outputs": [
    {
     "data": {
      "text/plain": [
       "['demo/src/main/java/com/evernote/android/job/demo/UnitTestDatabaseCreator.java',\n",
       " 'demo/src/main/java/com/evernote/android/job/demo/FileUtils.java',\n",
       " 'demo/src/main/java/com/evernote/android/job/demo/SyncHistoryActivity.java',\n",
       " 'demo/src/main/java/com/evernote/android/job/demo/App.java',\n",
       " 'demo/src/main/java/com/evernote/android/job/demo/DemoJobCreator.java',\n",
       " 'demo/src/main/java/com/evernote/android/job/demo/DemoSyncJob.java',\n",
       " 'demo/src/main/java/com/evernote/android/job/demo/MainActivity.java',\n",
       " 'demo/src/main/java/com/evernote/android/job/demo/DemoSyncEngine.java',\n",
       " 'library/src/androidTest/java/com/evernote/android/job/TransientJobCleanUpTest.java',\n",
       " 'library/src/androidTest/java/com/evernote/android/job/PlatformWorkManagerRule.java',\n",
       " 'library/src/androidTest/java/com/evernote/android/job/Platform21Test.java',\n",
       " 'library/src/androidTest/java/com/evernote/android/job/DisabledServiceTest.java',\n",
       " 'library/src/androidTest/java/com/evernote/android/job/PlatformTest.java',\n",
       " 'library/src/androidTest/java/com/evernote/android/job/work/PlatformWorkManagerTest.java',\n",
       " 'library/src/androidTest/java/com/evernote/android/job/TransientBundleTest.java',\n",
       " 'library/src/androidTest/java/com/evernote/android/job/v21/TransientBundleCompatTest.java',\n",
       " 'library/src/androidTest/java/com/evernote/android/job/PlatformJobManagerRule.java',\n",
       " 'library/src/androidTest/java/com/evernote/android/job/TransientBundleRescheduleTest.java',\n",
       " 'library/src/main/java/android/support/v4/app/SafeJobIntentService.java',\n",
       " 'library/src/main/java/android/support/v4/app/SafeJobServiceEngineImpl.java',\n",
       " 'library/src/main/java/com/evernote/android/job/JobProxyIllegalStateException.java',\n",
       " 'library/src/main/java/com/evernote/android/job/Job.java',\n",
       " 'library/src/main/java/com/evernote/android/job/v14/JobProxy14.java',\n",
       " 'library/src/main/java/com/evernote/android/job/v14/PlatformAlarmService.java',\n",
       " 'library/src/main/java/com/evernote/android/job/v14/PlatformAlarmReceiver.java',\n",
       " 'library/src/main/java/com/evernote/android/job/v14/PlatformAlarmServiceExact.java',\n",
       " 'library/src/main/java/com/evernote/android/job/JobCreatorHolder.java',\n",
       " 'library/src/main/java/com/evernote/android/job/JobRequest.java',\n",
       " 'library/src/main/java/com/evernote/android/job/JobStorageDatabaseErrorHandler.java',\n",
       " 'library/src/main/java/com/evernote/android/job/JobManager.java',\n",
       " 'library/src/main/java/com/evernote/android/job/JobIdsInternal.java',\n",
       " 'library/src/main/java/com/evernote/android/job/work/PlatformWorker.java',\n",
       " 'library/src/main/java/com/evernote/android/job/work/JobProxyWorkManager.java',\n",
       " 'library/src/main/java/com/evernote/android/job/work/TransientBundleHolder.java',\n",
       " 'library/src/main/java/com/evernote/android/job/gcm/JobProxyGcm.java',\n",
       " 'library/src/main/java/com/evernote/android/job/gcm/PlatformGcmService.java',\n",
       " 'library/src/main/java/com/evernote/android/job/v19/JobProxy19.java',\n",
       " 'library/src/main/java/com/evernote/android/job/WorkManagerAvailableHelper.java',\n",
       " 'library/src/main/java/com/evernote/android/job/JobCreator.java',\n",
       " 'library/src/main/java/com/evernote/android/job/DailyJob.java',\n",
       " 'library/src/main/java/com/evernote/android/job/util/Device.java',\n",
       " 'library/src/main/java/com/evernote/android/job/util/JobLogger.java',\n",
       " 'library/src/main/java/com/evernote/android/job/util/JobCat.java',\n",
       " 'library/src/main/java/com/evernote/android/job/util/Clock.java',\n",
       " 'library/src/main/java/com/evernote/android/job/util/JobUtil.java',\n",
       " 'library/src/main/java/com/evernote/android/job/util/JobPreconditions.java',\n",
       " 'library/src/main/java/com/evernote/android/job/util/support/PersistableBundleCompat.java',\n",
       " 'library/src/main/java/com/evernote/android/job/util/support/XmlUtils.java',\n",
       " 'library/src/main/java/com/evernote/android/job/util/support/FastXmlSerializer.java',\n",
       " 'library/src/main/java/com/evernote/android/job/util/BatteryStatus.java',\n",
       " 'library/src/main/java/com/evernote/android/job/WakeLockUtil.java',\n",
       " 'library/src/main/java/com/evernote/android/job/v26/JobProxy26.java',\n",
       " 'library/src/main/java/com/evernote/android/job/JobConfig.java',\n",
       " 'library/src/main/java/com/evernote/android/job/JobManagerCreateException.java',\n",
       " 'library/src/main/java/com/evernote/android/job/JobProxy.java',\n",
       " 'library/src/main/java/com/evernote/android/job/JobApi.java',\n",
       " 'library/src/main/java/com/evernote/android/job/JobExecutor.java',\n",
       " 'library/src/main/java/com/evernote/android/job/JobRescheduleService.java',\n",
       " 'library/src/main/java/com/evernote/android/job/GcmAvailableHelper.java',\n",
       " 'library/src/main/java/com/evernote/android/job/JobBootReceiver.java',\n",
       " 'library/src/main/java/com/evernote/android/job/v21/PlatformJobService.java',\n",
       " 'library/src/main/java/com/evernote/android/job/v21/JobProxy21.java',\n",
       " 'library/src/main/java/com/evernote/android/job/v21/TransientBundleCompat.java',\n",
       " 'library/src/main/java/com/evernote/android/job/v24/JobProxy24.java',\n",
       " 'library/src/main/java/com/evernote/android/job/JobStorage.java',\n",
       " 'library/src/test/java/android/support/v4/app/JobIntentServiceReset.java',\n",
       " 'library/src/test/java/com/evernote/android/job/JobManagerRule.java',\n",
       " 'library/src/test/java/com/evernote/android/job/DatabaseFailureTest.java',\n",
       " 'library/src/test/java/com/evernote/android/job/JobConfigTest.java',\n",
       " 'library/src/test/java/com/evernote/android/job/JobProxyTest.java',\n",
       " 'library/src/test/java/com/evernote/android/job/AsyncScheduleTest.java',\n",
       " 'library/src/test/java/com/evernote/android/job/LastRunTest.java',\n",
       " 'library/src/test/java/com/evernote/android/job/JobExecutionTest.java',\n",
       " 'library/src/test/java/com/evernote/android/job/DailyJobTest.java',\n",
       " 'library/src/test/java/com/evernote/android/job/FailureCountTest.java',\n",
       " 'library/src/test/java/com/evernote/android/job/JobRescheduleTest.java',\n",
       " 'library/src/test/java/com/evernote/android/job/DatabaseCorruptionTest.java',\n",
       " 'library/src/test/java/com/evernote/android/job/util/JobUtilTest.java',\n",
       " 'library/src/test/java/com/evernote/android/job/util/DeviceTest.java',\n",
       " 'library/src/test/java/com/evernote/android/job/util/LoggerTest.java',\n",
       " 'library/src/test/java/com/evernote/android/job/util/support/PersistableBundleCompatTest.java',\n",
       " 'library/src/test/java/com/evernote/android/job/JobCreatorHolderTest.java',\n",
       " 'library/src/test/java/com/evernote/android/job/JobRequestTest.java',\n",
       " 'library/src/test/java/com/evernote/android/job/DatabaseManualUpgradeTest.java',\n",
       " 'library/src/test/java/com/evernote/android/job/BaseJobManagerTest.java',\n",
       " 'library/src/test/java/com/evernote/android/job/JobManagerCreateTest.java',\n",
       " 'library/src/test/java/com/evernote/android/job/DatabaseExistingTest.java',\n",
       " 'library/src/test/java/com/evernote/android/job/JobPeriodicCancelTest.java',\n",
       " 'library/src/test/java/com/evernote/android/job/BackoffCriteriaTests.java',\n",
       " 'library/src/test/java/com/evernote/android/job/JobRequirementTest.java',\n",
       " 'library/src/test/java/com/evernote/android/job/JobManagerTest.java',\n",
       " 'library/src/test/java/com/evernote/android/job/JobExecutorTest.java',\n",
       " 'library/src/test/java/com/evernote/android/job/JobCanceledTest.java',\n",
       " 'library/src/test/java/com/evernote/android/job/test/DummyJobs.java',\n",
       " 'library/src/test/java/com/evernote/android/job/test/TestClock.java',\n",
       " 'library/src/test/java/com/evernote/android/job/test/JobRobolectricTestRunner.java',\n",
       " 'library/src/test/java/com/evernote/android/job/test/TestLogger.java']"
      ]
     },
     "execution_count": 33,
     "metadata": {},
     "output_type": "execute_result"
    }
   ],
   "source": [
    "file_lines"
   ]
  }
 ],
 "metadata": {
  "kernelspec": {
   "display_name": "Python 3",
   "language": "python",
   "name": "python3"
  },
  "language_info": {
   "codemirror_mode": {
    "name": "ipython",
    "version": 3
   },
   "file_extension": ".py",
   "mimetype": "text/x-python",
   "name": "python",
   "nbconvert_exporter": "python",
   "pygments_lexer": "ipython3",
   "version": "3.7.3"
  }
 },
 "nbformat": 4,
 "nbformat_minor": 2
}
